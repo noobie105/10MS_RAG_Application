{
  "nbformat": 4,
  "nbformat_minor": 0,
  "metadata": {
    "colab": {
      "provenance": [],
      "authorship_tag": "ABX9TyMXt0vzwvB27UajalDbGv6z",
      "include_colab_link": true
    },
    "kernelspec": {
      "name": "python3",
      "display_name": "Python 3"
    },
    "language_info": {
      "name": "python"
    }
  },
  "cells": [
    {
      "cell_type": "markdown",
      "metadata": {
        "id": "view-in-github",
        "colab_type": "text"
      },
      "source": [
        "<a href=\"https://colab.research.google.com/github/noobie105/10MS_RAG_Application/blob/main/10MS_TA.ipynb\" target=\"_parent\"><img src=\"https://colab.research.google.com/assets/colab-badge.svg\" alt=\"Open In Colab\"/></a>"
      ]
    },
    {
      "cell_type": "markdown",
      "source": [
        "Converting PDF to DOC using GEMINI"
      ],
      "metadata": {
        "id": "RPZEJUUO3sRL"
      }
    },
    {
      "cell_type": "code",
      "source": [
        "!pip install pdf2image python-docx\n",
        "!apt-get update\n",
        "!apt-get install -y poppler-utils"
      ],
      "metadata": {
        "id": "w0UrTmQD3phS"
      },
      "execution_count": null,
      "outputs": []
    },
    {
      "cell_type": "code",
      "source": [
        "import os\n",
        "import google.generativeai as genai\n",
        "from docx import Document\n",
        "import re\n",
        "from google.colab import files\n",
        "from google.colab import userdata\n",
        "import time\n",
        "from pdf2image import convert_from_path\n",
        "import requests\n",
        "\n",
        "#configuring Gemini API\n",
        "def configure_gemini():\n",
        "    try:\n",
        "        api_key = userdata.get(\"GOOGLE_AOI_KEY_2\")\n",
        "        if not api_key:\n",
        "            raise ValueError(\"API key not found in Colab Secrets as 'GOOGLE_AOI_KEY_2'.\")\n",
        "        genai.configure(api_key=api_key)\n",
        "        model = genai.GenerativeModel('models/gemini-2.0-flash')  # Use Gemini 2.0 Flash\n",
        "        # Test API key with a simple request\n",
        "        model.generate_content(\"Test\")\n",
        "        return model\n",
        "    except Exception as e:\n",
        "        print(f\"Error configuring Gemini API: {e}\")\n",
        "        print(\"Ensure the 'GOOGLE_AOI_KEY_2' secret is set in Colab Secrets: https://colab.research.google.com/drive/1...\")\n",
        "        return None\n",
        "\n",
        "#extracting Text from PDF\n",
        "def extract_text_from_page(pdf_path, page_num, model, max_retries=3, retry_delay=5):\n",
        "    for attempt in range(1, max_retries + 1):\n",
        "        try:\n",
        "            images = convert_from_path(pdf_path, first_page=page_num, last_page=page_num, dpi=300)\n",
        "            if not images:\n",
        "                print(f\"Error: No image generated for page {page_num} on attempt {attempt}.\")\n",
        "                continue\n",
        "            temp_image_path = f\"/content/temp_page_{page_num}.png\"\n",
        "            images[0].save(temp_image_path, 'PNG')\n",
        "\n",
        "            sample_file = genai.upload_file(path=temp_image_path, display_name=f\"Page_{page_num}\")\n",
        "            print(f\"Uploaded page {page_num} as: {sample_file.uri} on attempt {attempt}\")\n",
        "\n",
        "            prompt = \"\"\"\n",
        "            Extract all text from the provided PDF page image, preserving the original Bengali script, sentence structure, and formatting as much as possible.\n",
        "            Include all questions, answers, passages, and vocabulary notes.\n",
        "            Ensure no content is omitted from the page.\n",
        "            Output the text in a clean, readable format without summarizing or modifying content.\n",
        "            \"\"\"\n",
        "            response = model.generate_content([sample_file, prompt])\n",
        "\n",
        "            genai.delete_file(sample_file.name)\n",
        "            print(f\"Deleted temporary file: {sample_file.name}\")\n",
        "\n",
        "            os.remove(temp_image_path)\n",
        "\n",
        "            text = response.text if response.text else None\n",
        "            if text:\n",
        "                return text\n",
        "            print(f\"Warning: No text extracted from page {page_num} on attempt {attempt}.\")\n",
        "        except (requests.exceptions.ConnectionError, Exception) as e:\n",
        "            print(f\"Error extracting text from page {page_num} on attempt {attempt}: {e}\")\n",
        "            if attempt < max_retries:\n",
        "                print(f\"Retrying page {page_num} in {retry_delay} seconds...\")\n",
        "                time.sleep(retry_delay)\n",
        "            continue\n",
        "        finally:\n",
        "            if os.path.exists(temp_image_path):\n",
        "                os.remove(temp_image_path)\n",
        "\n",
        "    print(f\"Failed to extract text from page {page_num} after {max_retries} attempts.\")\n",
        "    return None\n",
        "\n",
        "def clean_text(text):\n",
        "    if not text:\n",
        "        return \"\"\n",
        "    text = re.sub(r'\\s+', ' ', text.strip())\n",
        "    text = re.sub(r'[^\\u0980-\\u09FF\\s।]', '', text)\n",
        "    text = text.replace('া ু', 'ৌ').replace('ি ী', 'ী').replace('ু ু', 'ূ')\n",
        "    text = re.sub(r'অনলাইন ব্যাচ বাংলা ইংরেজি আইসিটি\\s*', '', text)\n",
        "    return text\n",
        "\n",
        "def save_to_word(text, output_path=\"/content/preprocessed_text.docx\"):\n",
        "    doc = Document()\n",
        "    doc.add_paragraph(text)\n",
        "    doc.save(output_path)\n",
        "    print(f\"Preprocessed text saved to {output_path}\")\n",
        "    files.download(output_path)\n",
        "\n",
        "def preprocess_pdf(pdf_path=\"/content/HSC26-Bangla1st-Paper.pdf\"):\n",
        "    model = configure_gemini()\n",
        "    if not model:\n",
        "        print(\"Error: Failed to initialize Gemini model. Check your API key in Colab Secrets.\")\n",
        "        return\n",
        "\n",
        "    try:\n",
        "        images = convert_from_path(pdf_path, dpi=100)\n",
        "        total_pages = len(images)\n",
        "        print(f\"Total pages in PDF: {total_pages}\")\n",
        "    except Exception as e:\n",
        "        print(f\"Error determining page count: {e}\")\n",
        "        return\n",
        "\n",
        "    all_text = \"\"\n",
        "    for page_num in range(1, total_pages + 1):\n",
        "        print(f\"Extracting page {page_num}...\")\n",
        "        page_text = extract_text_from_page(pdf_path, page_num, model)\n",
        "        if page_text:\n",
        "            cleaned_text = clean_text(page_text)\n",
        "            all_text += f\"\\n\\n--- Page {page_num} ---\\n{cleaned_text}\"\n",
        "        else:\n",
        "            print(f\"Warning: No text extracted from page {page_num} after retries.\")\n",
        "        time.sleep(5)\n",
        "\n",
        "    if not all_text.strip():\n",
        "        print(\"Error: No text extracted from any page. Ensure the PDF is valid.\")\n",
        "        return\n",
        "    save_to_word(all_text)\n",
        "\n",
        "    print(\"\\nPreprocessed Text Preview:\")\n",
        "    print(all_text[:1000] + \"...\" if len(all_text) > 1000 else all_text)\n",
        "\n",
        "if __name__ == \"__main__\":\n",
        "    preprocess_pdf()"
      ],
      "metadata": {
        "id": "4flSmjoD3bmo"
      },
      "execution_count": null,
      "outputs": []
    }
  ]
}